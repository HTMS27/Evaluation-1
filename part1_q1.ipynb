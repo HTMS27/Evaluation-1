{
 "cells": [
  {
   "cell_type": "code",
   "execution_count": 1,
   "id": "7ae56d73-edf2-4d8d-bb55-fdf6072a6900",
   "metadata": {},
   "outputs": [
    {
     "data": {
      "text/plain": [
       "[1, 2, 3, 4, 5, 6, 7, 8, 9, 10, 11, 648, 649, 650, 651, 652, 653, 3]"
      ]
     },
     "execution_count": 1,
     "metadata": {},
     "output_type": "execute_result"
    }
   ],
   "source": [
    "import re\n",
    "\n",
    "st=\"{'orders':[{'id':1},{'id':2},{'id':3},{'id':4},{'id':5},{'id':6},{'id':7},{'id':8},{'id':9},{'id':10},{'id':11},{'id':648},{'id':649},{'id':650},{'id':651},{'id':652},{'id':653}],'errors':[{'code':3,'message':'[PHPWarning #2] count(): Parameter must be an array or an object that implements Countable(153)'}]}\"\n",
    "result=[int(i) for i in re.findall(r\"['id''code']:(\\d+)\",st)]\n",
    "result"
   ]
  },
  {
   "cell_type": "code",
   "execution_count": null,
   "id": "81022c96-f87a-4bc2-b1e9-55fde4db4070",
   "metadata": {},
   "outputs": [],
   "source": []
  }
 ],
 "metadata": {
  "kernelspec": {
   "display_name": "Python 3 (ipykernel)",
   "language": "python",
   "name": "python3"
  },
  "language_info": {
   "codemirror_mode": {
    "name": "ipython",
    "version": 3
   },
   "file_extension": ".py",
   "mimetype": "text/x-python",
   "name": "python",
   "nbconvert_exporter": "python",
   "pygments_lexer": "ipython3",
   "version": "3.9.7"
  }
 },
 "nbformat": 4,
 "nbformat_minor": 5
}
