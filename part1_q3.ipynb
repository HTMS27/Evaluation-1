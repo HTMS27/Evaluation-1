{
 "cells": [
  {
   "cell_type": "code",
   "execution_count": 151,
   "id": "b0148ca5-8cbe-4db7-bd29-cb96f4a3cdb2",
   "metadata": {},
   "outputs": [],
   "source": [
    "import pandas as p"
   ]
  },
  {
   "cell_type": "code",
   "execution_count": 172,
   "id": "4c2c1e55-1057-4782-b2e6-592034fd5f15",
   "metadata": {},
   "outputs": [],
   "source": [
    "data=p.read_csv('browser_rankings_data.csv')"
   ]
  },
  {
   "cell_type": "code",
   "execution_count": 173,
   "id": "d5a208ec-b3d2-4e03-b004-02ea4bf09f74",
   "metadata": {},
   "outputs": [
    {
     "data": {
      "text/plain": [
       "(3067, 1)"
      ]
     },
     "execution_count": 173,
     "metadata": {},
     "output_type": "execute_result"
    }
   ],
   "source": [
    "data.shape"
   ]
  },
  {
   "cell_type": "code",
   "execution_count": 174,
   "id": "4642e36c-4caf-41b1-a88d-eee65b9de2c7",
   "metadata": {},
   "outputs": [
    {
     "data": {
      "text/html": [
       "<div>\n",
       "<style scoped>\n",
       "    .dataframe tbody tr th:only-of-type {\n",
       "        vertical-align: middle;\n",
       "    }\n",
       "\n",
       "    .dataframe tbody tr th {\n",
       "        vertical-align: top;\n",
       "    }\n",
       "\n",
       "    .dataframe thead th {\n",
       "        text-align: right;\n",
       "    }\n",
       "</style>\n",
       "<table border=\"1\" class=\"dataframe\">\n",
       "  <thead>\n",
       "    <tr style=\"text-align: right;\">\n",
       "      <th></th>\n",
       "      <th></th>\n",
       "      <th></th>\n",
       "      <th></th>\n",
       "      <th></th>\n",
       "      <th></th>\n",
       "      <th></th>\n",
       "      <th></th>\n",
       "      <th></th>\n",
       "      <th>browser_rankings</th>\n",
       "    </tr>\n",
       "  </thead>\n",
       "  <tbody>\n",
       "    <tr>\n",
       "      <th>ID</th>\n",
       "      <th>Keyword</th>\n",
       "      <th>Rank</th>\n",
       "      <th>Country</th>\n",
       "      <th>Language</th>\n",
       "      <th>Date</th>\n",
       "      <th>App ID</th>\n",
       "      <th>Date of Last Description Change</th>\n",
       "      <th>Short Description</th>\n",
       "      <td>Long Description</td>\n",
       "    </tr>\n",
       "    <tr>\n",
       "      <th>1</th>\n",
       "      <th>browser</th>\n",
       "      <th>2</th>\n",
       "      <th>in</th>\n",
       "      <th>en</th>\n",
       "      <th>2020-12-16</th>\n",
       "      <th>net.fast.web.browser</th>\n",
       "      <th>2020-12-18</th>\n",
       "      <th>The small, fastest, secure Web Browser, best mobile browser, fast search Google.</th>\n",
       "      <td>One of the smallest, fastest, secure Web Brows...</td>\n",
       "    </tr>\n",
       "    <tr>\n",
       "      <th>2</th>\n",
       "      <th>browser</th>\n",
       "      <th>3</th>\n",
       "      <th>in</th>\n",
       "      <th>en</th>\n",
       "      <th>2020-12-16</th>\n",
       "      <th>com.android.chrome</th>\n",
       "      <th>2020-12-18</th>\n",
       "      <th>Fast, simple, and secure. Google Chrome browser for Android phones and tablets.</th>\n",
       "      <td>Google Chrome is a fast, easy to use, and secu...</td>\n",
       "    </tr>\n",
       "    <tr>\n",
       "      <th rowspan=\"2\" valign=\"top\">3</th>\n",
       "      <th rowspan=\"2\" valign=\"top\">browser</th>\n",
       "      <th rowspan=\"2\" valign=\"top\">4</th>\n",
       "      <th rowspan=\"2\" valign=\"top\">in</th>\n",
       "      <th rowspan=\"2\" valign=\"top\">en</th>\n",
       "      <th rowspan=\"2\" valign=\"top\">2020-12-16</th>\n",
       "      <th rowspan=\"2\" valign=\"top\">com.opera.browser</th>\n",
       "      <th>2021-02-27</th>\n",
       "      <th>Fast, safe web browser: free VPN, Ad blocker, QR-code reader &amp;amp; personalized news</th>\n",
       "      <td>Fast, safe and private, introducing the latest...</td>\n",
       "    </tr>\n",
       "    <tr>\n",
       "      <th>2020-12-18</th>\n",
       "      <th>Fast, safe web browser: free VPN, Ad blocker, QR-code reader &amp;amp; personalized news</th>\n",
       "      <td>Opera is a fast, safe web browser for your And...</td>\n",
       "    </tr>\n",
       "  </tbody>\n",
       "</table>\n",
       "</div>"
      ],
      "text/plain": [
       "                                                                                                                                                                                      browser_rankings\n",
       "ID Keyword Rank Country Language Date       App ID               Date of Last Description Change Short Description                                                                    Long Description\n",
       "1  browser 2    in      en       2020-12-16 net.fast.web.browser 2020-12-18                      The small, fastest, secure Web Browser, best mo...  One of the smallest, fastest, secure Web Brows...\n",
       "2  browser 3    in      en       2020-12-16 com.android.chrome   2020-12-18                      Fast, simple, and secure. Google Chrome browser...  Google Chrome is a fast, easy to use, and secu...\n",
       "3  browser 4    in      en       2020-12-16 com.opera.browser    2021-02-27                      Fast, safe web browser: free VPN, Ad blocker, Q...  Fast, safe and private, introducing the latest...\n",
       "                                                                 2020-12-18                      Fast, safe web browser: free VPN, Ad blocker, Q...  Opera is a fast, safe web browser for your And..."
      ]
     },
     "execution_count": 174,
     "metadata": {},
     "output_type": "execute_result"
    }
   ],
   "source": [
    "data.head()"
   ]
  },
  {
   "cell_type": "code",
   "execution_count": 175,
   "id": "89b11f45-3c8c-4d5d-a42b-86961ea32307",
   "metadata": {},
   "outputs": [
    {
     "data": {
      "text/plain": [
       "Index(['browser_rankings'], dtype='object')"
      ]
     },
     "execution_count": 175,
     "metadata": {},
     "output_type": "execute_result"
    }
   ],
   "source": [
    "data.columns"
   ]
  },
  {
   "cell_type": "code",
   "execution_count": 176,
   "id": "43286a24-39af-4c39-947d-93967631a40d",
   "metadata": {},
   "outputs": [
    {
     "data": {
      "text/plain": [
       "MultiIndex([(    'ID',         'Keyword', 'Rank', 'Country', 'Language', ...),\n",
       "            (     '1',         'browser',    '2',      'in',       'en', ...),\n",
       "            (     '2',         'browser',    '3',      'in',       'en', ...),\n",
       "            (     '3',         'browser',    '4',      'in',       'en', ...),\n",
       "            (     '3',         'browser',    '4',      'in',       'en', ...),\n",
       "            (     '4',         'browser',    '1',      'in',       'en', ...),\n",
       "            (     '4',         'browser',    '1',      'in',       'en', ...),\n",
       "            (     '4',         'browser',    '1',      'in',       'en', ...),\n",
       "            (     '4',         'browser',    '1',      'in',       'en', ...),\n",
       "            (     '5', 'android browser',   '11',      'in',       'en', ...),\n",
       "            ...\n",
       "            ('131572',         'browser',    '4',      'in',       'en', ...),\n",
       "            ('131572',         'browser',    '4',      'in',       'en', ...),\n",
       "            ('131573', 'android browser',   '15',      'in',       'en', ...),\n",
       "            ('131574', 'android browser',   '13',      'in',       'en', ...),\n",
       "            ('131575', 'android browser',    '7',      'in',       'en', ...),\n",
       "            ('131575', 'android browser',    '7',      'in',       'en', ...),\n",
       "            ('131576', 'android browser',    '5',      'in',       'en', ...),\n",
       "            ('131576', 'android browser',    '5',      'in',       'en', ...),\n",
       "            ('131576', 'android browser',    '5',      'in',       'en', ...),\n",
       "            ('131576', 'android browser',    '5',      'in',       'en', ...)],\n",
       "           length=3067)"
      ]
     },
     "execution_count": 176,
     "metadata": {},
     "output_type": "execute_result"
    }
   ],
   "source": [
    "data.index"
   ]
  },
  {
   "cell_type": "code",
   "execution_count": 177,
   "id": "5abc0769-9c43-49c6-b264-c93ea041fd4d",
   "metadata": {},
   "outputs": [],
   "source": [
    "data=data.reset_index()"
   ]
  },
  {
   "cell_type": "code",
   "execution_count": 178,
   "id": "3868fb4f-3fd1-4853-8745-0e65ebc7528a",
   "metadata": {},
   "outputs": [],
   "source": [
    "data=data.rename(columns=data.iloc[0])"
   ]
  },
  {
   "cell_type": "code",
   "execution_count": 179,
   "id": "869dc43a-b700-4599-8d56-18b68a50cc51",
   "metadata": {},
   "outputs": [
    {
     "data": {
      "text/html": [
       "<div>\n",
       "<style scoped>\n",
       "    .dataframe tbody tr th:only-of-type {\n",
       "        vertical-align: middle;\n",
       "    }\n",
       "\n",
       "    .dataframe tbody tr th {\n",
       "        vertical-align: top;\n",
       "    }\n",
       "\n",
       "    .dataframe thead th {\n",
       "        text-align: right;\n",
       "    }\n",
       "</style>\n",
       "<table border=\"1\" class=\"dataframe\">\n",
       "  <thead>\n",
       "    <tr style=\"text-align: right;\">\n",
       "      <th></th>\n",
       "      <th>ID</th>\n",
       "      <th>Keyword</th>\n",
       "      <th>Rank</th>\n",
       "      <th>Country</th>\n",
       "      <th>Language</th>\n",
       "      <th>Date</th>\n",
       "      <th>App ID</th>\n",
       "      <th>Date of Last Description Change</th>\n",
       "      <th>Short Description</th>\n",
       "      <th>Long Description</th>\n",
       "    </tr>\n",
       "  </thead>\n",
       "  <tbody>\n",
       "    <tr>\n",
       "      <th>0</th>\n",
       "      <td>ID</td>\n",
       "      <td>Keyword</td>\n",
       "      <td>Rank</td>\n",
       "      <td>Country</td>\n",
       "      <td>Language</td>\n",
       "      <td>Date</td>\n",
       "      <td>App ID</td>\n",
       "      <td>Date of Last Description Change</td>\n",
       "      <td>Short Description</td>\n",
       "      <td>Long Description</td>\n",
       "    </tr>\n",
       "    <tr>\n",
       "      <th>1</th>\n",
       "      <td>1</td>\n",
       "      <td>browser</td>\n",
       "      <td>2</td>\n",
       "      <td>in</td>\n",
       "      <td>en</td>\n",
       "      <td>2020-12-16</td>\n",
       "      <td>net.fast.web.browser</td>\n",
       "      <td>2020-12-18</td>\n",
       "      <td>The small, fastest, secure Web Browser, best m...</td>\n",
       "      <td>One of the smallest, fastest, secure Web Brows...</td>\n",
       "    </tr>\n",
       "    <tr>\n",
       "      <th>2</th>\n",
       "      <td>2</td>\n",
       "      <td>browser</td>\n",
       "      <td>3</td>\n",
       "      <td>in</td>\n",
       "      <td>en</td>\n",
       "      <td>2020-12-16</td>\n",
       "      <td>com.android.chrome</td>\n",
       "      <td>2020-12-18</td>\n",
       "      <td>Fast, simple, and secure. Google Chrome browse...</td>\n",
       "      <td>Google Chrome is a fast, easy to use, and secu...</td>\n",
       "    </tr>\n",
       "    <tr>\n",
       "      <th>3</th>\n",
       "      <td>3</td>\n",
       "      <td>browser</td>\n",
       "      <td>4</td>\n",
       "      <td>in</td>\n",
       "      <td>en</td>\n",
       "      <td>2020-12-16</td>\n",
       "      <td>com.opera.browser</td>\n",
       "      <td>2021-02-27</td>\n",
       "      <td>Fast, safe web browser: free VPN, Ad blocker, ...</td>\n",
       "      <td>Fast, safe and private, introducing the latest...</td>\n",
       "    </tr>\n",
       "    <tr>\n",
       "      <th>4</th>\n",
       "      <td>3</td>\n",
       "      <td>browser</td>\n",
       "      <td>4</td>\n",
       "      <td>in</td>\n",
       "      <td>en</td>\n",
       "      <td>2020-12-16</td>\n",
       "      <td>com.opera.browser</td>\n",
       "      <td>2020-12-18</td>\n",
       "      <td>Fast, safe web browser: free VPN, Ad blocker, ...</td>\n",
       "      <td>Opera is a fast, safe web browser for your And...</td>\n",
       "    </tr>\n",
       "  </tbody>\n",
       "</table>\n",
       "</div>"
      ],
      "text/plain": [
       "   ID  Keyword  Rank  Country  Language        Date                App ID  \\\n",
       "0  ID  Keyword  Rank  Country  Language        Date                App ID   \n",
       "1   1  browser     2       in        en  2020-12-16  net.fast.web.browser   \n",
       "2   2  browser     3       in        en  2020-12-16    com.android.chrome   \n",
       "3   3  browser     4       in        en  2020-12-16     com.opera.browser   \n",
       "4   3  browser     4       in        en  2020-12-16     com.opera.browser   \n",
       "\n",
       "   Date of Last Description Change  \\\n",
       "0  Date of Last Description Change   \n",
       "1                       2020-12-18   \n",
       "2                       2020-12-18   \n",
       "3                       2021-02-27   \n",
       "4                       2020-12-18   \n",
       "\n",
       "                                   Short Description  \\\n",
       "0                                  Short Description   \n",
       "1  The small, fastest, secure Web Browser, best m...   \n",
       "2  Fast, simple, and secure. Google Chrome browse...   \n",
       "3  Fast, safe web browser: free VPN, Ad blocker, ...   \n",
       "4  Fast, safe web browser: free VPN, Ad blocker, ...   \n",
       "\n",
       "                                    Long Description  \n",
       "0                                   Long Description  \n",
       "1  One of the smallest, fastest, secure Web Brows...  \n",
       "2  Google Chrome is a fast, easy to use, and secu...  \n",
       "3  Fast, safe and private, introducing the latest...  \n",
       "4  Opera is a fast, safe web browser for your And...  "
      ]
     },
     "execution_count": 179,
     "metadata": {},
     "output_type": "execute_result"
    }
   ],
   "source": [
    "data.head()"
   ]
  },
  {
   "cell_type": "code",
   "execution_count": 180,
   "id": "eca19f56-3e54-49cc-a9f3-5035cfa9f691",
   "metadata": {},
   "outputs": [],
   "source": [
    "data.drop(data.index[0], inplace = True)"
   ]
  },
  {
   "cell_type": "code",
   "execution_count": 181,
   "id": "7986fceb-b2f4-4397-8fbf-24e46d18d406",
   "metadata": {},
   "outputs": [
    {
     "data": {
      "text/html": [
       "<div>\n",
       "<style scoped>\n",
       "    .dataframe tbody tr th:only-of-type {\n",
       "        vertical-align: middle;\n",
       "    }\n",
       "\n",
       "    .dataframe tbody tr th {\n",
       "        vertical-align: top;\n",
       "    }\n",
       "\n",
       "    .dataframe thead th {\n",
       "        text-align: right;\n",
       "    }\n",
       "</style>\n",
       "<table border=\"1\" class=\"dataframe\">\n",
       "  <thead>\n",
       "    <tr style=\"text-align: right;\">\n",
       "      <th></th>\n",
       "      <th>ID</th>\n",
       "      <th>Keyword</th>\n",
       "      <th>Rank</th>\n",
       "      <th>Country</th>\n",
       "      <th>Language</th>\n",
       "      <th>Date</th>\n",
       "      <th>App ID</th>\n",
       "      <th>Date of Last Description Change</th>\n",
       "      <th>Short Description</th>\n",
       "      <th>Long Description</th>\n",
       "    </tr>\n",
       "  </thead>\n",
       "  <tbody>\n",
       "    <tr>\n",
       "      <th>1</th>\n",
       "      <td>1</td>\n",
       "      <td>browser</td>\n",
       "      <td>2</td>\n",
       "      <td>in</td>\n",
       "      <td>en</td>\n",
       "      <td>2020-12-16</td>\n",
       "      <td>net.fast.web.browser</td>\n",
       "      <td>2020-12-18</td>\n",
       "      <td>The small, fastest, secure Web Browser, best m...</td>\n",
       "      <td>One of the smallest, fastest, secure Web Brows...</td>\n",
       "    </tr>\n",
       "    <tr>\n",
       "      <th>2</th>\n",
       "      <td>2</td>\n",
       "      <td>browser</td>\n",
       "      <td>3</td>\n",
       "      <td>in</td>\n",
       "      <td>en</td>\n",
       "      <td>2020-12-16</td>\n",
       "      <td>com.android.chrome</td>\n",
       "      <td>2020-12-18</td>\n",
       "      <td>Fast, simple, and secure. Google Chrome browse...</td>\n",
       "      <td>Google Chrome is a fast, easy to use, and secu...</td>\n",
       "    </tr>\n",
       "    <tr>\n",
       "      <th>3</th>\n",
       "      <td>3</td>\n",
       "      <td>browser</td>\n",
       "      <td>4</td>\n",
       "      <td>in</td>\n",
       "      <td>en</td>\n",
       "      <td>2020-12-16</td>\n",
       "      <td>com.opera.browser</td>\n",
       "      <td>2021-02-27</td>\n",
       "      <td>Fast, safe web browser: free VPN, Ad blocker, ...</td>\n",
       "      <td>Fast, safe and private, introducing the latest...</td>\n",
       "    </tr>\n",
       "    <tr>\n",
       "      <th>4</th>\n",
       "      <td>3</td>\n",
       "      <td>browser</td>\n",
       "      <td>4</td>\n",
       "      <td>in</td>\n",
       "      <td>en</td>\n",
       "      <td>2020-12-16</td>\n",
       "      <td>com.opera.browser</td>\n",
       "      <td>2020-12-18</td>\n",
       "      <td>Fast, safe web browser: free VPN, Ad blocker, ...</td>\n",
       "      <td>Opera is a fast, safe web browser for your And...</td>\n",
       "    </tr>\n",
       "    <tr>\n",
       "      <th>5</th>\n",
       "      <td>4</td>\n",
       "      <td>browser</td>\n",
       "      <td>1</td>\n",
       "      <td>in</td>\n",
       "      <td>en</td>\n",
       "      <td>2020-12-16</td>\n",
       "      <td>com.cloudmosa.puffinTV</td>\n",
       "      <td>2021-02-07</td>\n",
       "      <td>Puffin TV Browser - One App to Watch All Video...</td>\n",
       "      <td>Puffin TV Browser is a special edition of Puff...</td>\n",
       "    </tr>\n",
       "  </tbody>\n",
       "</table>\n",
       "</div>"
      ],
      "text/plain": [
       "  ID  Keyword Rank Country Language        Date                  App ID  \\\n",
       "1  1  browser    2      in       en  2020-12-16    net.fast.web.browser   \n",
       "2  2  browser    3      in       en  2020-12-16      com.android.chrome   \n",
       "3  3  browser    4      in       en  2020-12-16       com.opera.browser   \n",
       "4  3  browser    4      in       en  2020-12-16       com.opera.browser   \n",
       "5  4  browser    1      in       en  2020-12-16  com.cloudmosa.puffinTV   \n",
       "\n",
       "  Date of Last Description Change  \\\n",
       "1                      2020-12-18   \n",
       "2                      2020-12-18   \n",
       "3                      2021-02-27   \n",
       "4                      2020-12-18   \n",
       "5                      2021-02-07   \n",
       "\n",
       "                                   Short Description  \\\n",
       "1  The small, fastest, secure Web Browser, best m...   \n",
       "2  Fast, simple, and secure. Google Chrome browse...   \n",
       "3  Fast, safe web browser: free VPN, Ad blocker, ...   \n",
       "4  Fast, safe web browser: free VPN, Ad blocker, ...   \n",
       "5  Puffin TV Browser - One App to Watch All Video...   \n",
       "\n",
       "                                    Long Description  \n",
       "1  One of the smallest, fastest, secure Web Brows...  \n",
       "2  Google Chrome is a fast, easy to use, and secu...  \n",
       "3  Fast, safe and private, introducing the latest...  \n",
       "4  Opera is a fast, safe web browser for your And...  \n",
       "5  Puffin TV Browser is a special edition of Puff...  "
      ]
     },
     "execution_count": 181,
     "metadata": {},
     "output_type": "execute_result"
    }
   ],
   "source": [
    "data.head()"
   ]
  },
  {
   "cell_type": "code",
   "execution_count": 188,
   "id": "97e11768-3bb1-42f6-af49-51cd92e45448",
   "metadata": {},
   "outputs": [
    {
     "data": {
      "text/plain": [
       "1      562\n",
       "2      490\n",
       "3      214\n",
       "6      213\n",
       "4      170\n",
       "      ... \n",
       "113      1\n",
       "85       1\n",
       "62       1\n",
       "134      1\n",
       "64       1\n",
       "Name: Rank, Length: 120, dtype: int64"
      ]
     },
     "execution_count": 188,
     "metadata": {},
     "output_type": "execute_result"
    }
   ],
   "source": [
    "data['Rank'].value_counts()"
   ]
  },
  {
   "cell_type": "code",
   "execution_count": null,
   "id": "3dae3bbb-7e4b-4fcf-b45e-b1aed1ea38e5",
   "metadata": {},
   "outputs": [],
   "source": []
  },
  {
   "cell_type": "code",
   "execution_count": 183,
   "id": "c604913a-ddb6-43a5-ac21-73303715face",
   "metadata": {},
   "outputs": [],
   "source": [
    "    data['Rank'].fillna(0,inplace = True)"
   ]
  },
  {
   "cell_type": "code",
   "execution_count": 191,
   "id": "ded1e24a-f748-44ac-9c63-a6a2efc8dd27",
   "metadata": {},
   "outputs": [],
   "source": [
    "data['Rank'] = p.to_numeric(data['Rank'])"
   ]
  },
  {
   "cell_type": "code",
   "execution_count": 192,
   "id": "9a9a3687-8582-4f9e-a7ed-520a7ae08862",
   "metadata": {},
   "outputs": [
    {
     "name": "stdout",
     "output_type": "stream",
     "text": [
      "<class 'pandas.core.frame.DataFrame'>\n",
      "Int64Index: 3066 entries, 1 to 3066\n",
      "Data columns (total 10 columns):\n",
      " #   Column                           Non-Null Count  Dtype \n",
      "---  ------                           --------------  ----- \n",
      " 0   ID                               3066 non-null   object\n",
      " 1   Keyword                          3066 non-null   object\n",
      " 2   Rank                             3066 non-null   int64 \n",
      " 3   Country                          3066 non-null   object\n",
      " 4   Language                         3066 non-null   object\n",
      " 5   Date                             3066 non-null   object\n",
      " 6   App ID                           3066 non-null   object\n",
      " 7   Date of Last Description Change  3066 non-null   object\n",
      " 8   Short Description                3066 non-null   object\n",
      " 9   Long Description                 3066 non-null   object\n",
      "dtypes: int64(1), object(9)\n",
      "memory usage: 263.5+ KB\n"
     ]
    }
   ],
   "source": [
    "data.info()"
   ]
  },
  {
   "cell_type": "code",
   "execution_count": 194,
   "id": "9db01cfa-b47a-48bd-aa4f-0fa60ba7b4ec",
   "metadata": {},
   "outputs": [
    {
     "data": {
      "text/plain": [
       "134"
      ]
     },
     "execution_count": 194,
     "metadata": {},
     "output_type": "execute_result"
    }
   ],
   "source": [
    "data['Rank'].max()"
   ]
  },
  {
   "cell_type": "code",
   "execution_count": 385,
   "id": "b2c1875a-f952-4cb8-8cda-966ced489238",
   "metadata": {},
   "outputs": [
    {
     "data": {
      "text/plain": [
       "10"
      ]
     },
     "execution_count": 385,
     "metadata": {},
     "output_type": "execute_result"
    }
   ],
   "source": [
    "len(data.columns.tolist())"
   ]
  },
  {
   "cell_type": "code",
   "execution_count": 391,
   "id": "f88201ab-0912-4568-a5d6-dd142b3abd23",
   "metadata": {
    "collapsed": true,
    "jupyter": {
     "outputs_hidden": true
    },
    "tags": []
   },
   "outputs": [
    {
     "data": {
      "text/plain": [
       "[0,\n",
       " 1,\n",
       " 2,\n",
       " 3,\n",
       " 4,\n",
       " 5,\n",
       " 6,\n",
       " 7,\n",
       " 8,\n",
       " 9,\n",
       " 10,\n",
       " 11,\n",
       " 12,\n",
       " 13,\n",
       " 14,\n",
       " 15,\n",
       " 16,\n",
       " 17,\n",
       " 18,\n",
       " 19,\n",
       " 20,\n",
       " 21,\n",
       " 22,\n",
       " 23,\n",
       " 24,\n",
       " 25,\n",
       " 26,\n",
       " 27,\n",
       " 28,\n",
       " 29,\n",
       " 30,\n",
       " 31,\n",
       " 32,\n",
       " 33,\n",
       " 34,\n",
       " 35,\n",
       " 36,\n",
       " 37,\n",
       " 38,\n",
       " 39,\n",
       " 40,\n",
       " 41,\n",
       " 42,\n",
       " 43,\n",
       " 44,\n",
       " 45,\n",
       " 46,\n",
       " 47,\n",
       " 48,\n",
       " 50,\n",
       " 51,\n",
       " 52,\n",
       " 53,\n",
       " 54,\n",
       " 55,\n",
       " 56,\n",
       " 57,\n",
       " 58,\n",
       " 59,\n",
       " 60,\n",
       " 61,\n",
       " 62,\n",
       " 63,\n",
       " 64,\n",
       " 65,\n",
       " 66,\n",
       " 67,\n",
       " 68,\n",
       " 69,\n",
       " 70,\n",
       " 71,\n",
       " 72,\n",
       " 73,\n",
       " 74,\n",
       " 75,\n",
       " 76,\n",
       " 77,\n",
       " 78,\n",
       " 79,\n",
       " 80,\n",
       " 81,\n",
       " 82,\n",
       " 83,\n",
       " 84,\n",
       " 85,\n",
       " 86,\n",
       " 87,\n",
       " 88,\n",
       " 89,\n",
       " 90,\n",
       " 91,\n",
       " 92,\n",
       " 93,\n",
       " 94,\n",
       " 95,\n",
       " 96,\n",
       " 97,\n",
       " 98,\n",
       " 99,\n",
       " 100,\n",
       " 101,\n",
       " 102,\n",
       " 103,\n",
       " 104,\n",
       " 105,\n",
       " 106,\n",
       " 107,\n",
       " 108,\n",
       " 109,\n",
       " 110,\n",
       " 111,\n",
       " 112,\n",
       " 113,\n",
       " 114,\n",
       " 115,\n",
       " 116,\n",
       " 117,\n",
       " 118,\n",
       " 119,\n",
       " 134]"
      ]
     },
     "execution_count": 391,
     "metadata": {},
     "output_type": "execute_result"
    }
   ],
   "source": [
    "sorted(data['Rank'].unique().tolist())"
   ]
  },
  {
   "cell_type": "code",
   "execution_count": 111,
   "id": "dfc99c9c-25bb-4f83-9954-528e12eb6100",
   "metadata": {},
   "outputs": [
    {
     "data": {
      "text/plain": [
       "com.duckduckgo.mobile.android    740\n",
       "com.cloudmosa.puffinTV           608\n",
       "com.brave.browser                370\n",
       "com.vivaldi.browser              370\n",
       "com.transsion.phoenix            370\n",
       "com.opera.browser                304\n",
       "net.fast.web.browser             152\n",
       "com.android.chrome               152\n",
       "Name: App ID, dtype: int64"
      ]
     },
     "execution_count": 111,
     "metadata": {},
     "output_type": "execute_result"
    }
   ],
   "source": [
    "data['App ID'].value_counts()"
   ]
  },
  {
   "cell_type": "code",
   "execution_count": 392,
   "id": "c627712c-a118-4c37-a96a-e917835e8b05",
   "metadata": {},
   "outputs": [
    {
     "data": {
      "text/plain": [
       "14"
      ]
     },
     "execution_count": 392,
     "metadata": {},
     "output_type": "execute_result"
    }
   ],
   "source": [
    "len([i for i in range(120,134)])"
   ]
  },
  {
   "cell_type": "code",
   "execution_count": 202,
   "id": "baeed35e-6a07-4482-a30f-1782298d647b",
   "metadata": {},
   "outputs": [
    {
     "data": {
      "text/plain": [
       "browser                         608\n",
       "android browser                 608\n",
       "privacy browser                 370\n",
       "privacy browsers for android    370\n",
       "best privacy browsers           370\n",
       "fast browser                    370\n",
       "ad free browser                 370\n",
       "Name: Keyword, dtype: int64"
      ]
     },
     "execution_count": 202,
     "metadata": {},
     "output_type": "execute_result"
    }
   ],
   "source": [
    "data['Keyword'].value_counts()"
   ]
  },
  {
   "cell_type": "code",
   "execution_count": 204,
   "id": "066eb280-652b-4df6-993e-bb3e88212a75",
   "metadata": {},
   "outputs": [
    {
     "data": {
      "text/plain": [
       "com.cloudmosa.puffinTV    304\n",
       "com.opera.browser         152\n",
       "net.fast.web.browser       76\n",
       "com.android.chrome         76\n",
       "Name: App ID, dtype: int64"
      ]
     },
     "execution_count": 204,
     "metadata": {},
     "output_type": "execute_result"
    }
   ],
   "source": [
    "data[data['Keyword']=='browser']['App ID'].value_counts()"
   ]
  },
  {
   "cell_type": "code",
   "execution_count": 205,
   "id": "be32a404-4299-4294-b75e-f9381b9f0081",
   "metadata": {},
   "outputs": [
    {
     "data": {
      "text/plain": [
       "com.cloudmosa.puffinTV    304\n",
       "com.opera.browser         152\n",
       "net.fast.web.browser       76\n",
       "com.android.chrome         76\n",
       "Name: App ID, dtype: int64"
      ]
     },
     "execution_count": 205,
     "metadata": {},
     "output_type": "execute_result"
    }
   ],
   "source": [
    "data[data['Keyword']=='android browser']['App ID'].value_counts()"
   ]
  },
  {
   "cell_type": "code",
   "execution_count": 206,
   "id": "3b6119d8-c012-4f67-9dd8-9478821871c4",
   "metadata": {},
   "outputs": [
    {
     "data": {
      "text/plain": [
       "com.duckduckgo.mobile.android    148\n",
       "com.brave.browser                 74\n",
       "com.vivaldi.browser               74\n",
       "com.transsion.phoenix             74\n",
       "Name: App ID, dtype: int64"
      ]
     },
     "execution_count": 206,
     "metadata": {},
     "output_type": "execute_result"
    }
   ],
   "source": [
    "data[data['Keyword']=='privacy browser']['App ID'].value_counts()"
   ]
  },
  {
   "cell_type": "code",
   "execution_count": 207,
   "id": "8897e70e-c66b-44d9-ad2f-5eec35d14e16",
   "metadata": {},
   "outputs": [
    {
     "data": {
      "text/plain": [
       "com.duckduckgo.mobile.android    148\n",
       "com.brave.browser                 74\n",
       "com.vivaldi.browser               74\n",
       "com.transsion.phoenix             74\n",
       "Name: App ID, dtype: int64"
      ]
     },
     "execution_count": 207,
     "metadata": {},
     "output_type": "execute_result"
    }
   ],
   "source": [
    "data[data['Keyword']=='privacy browsers for android']['App ID'].value_counts()"
   ]
  },
  {
   "cell_type": "code",
   "execution_count": 208,
   "id": "a5311622-cacb-4f13-b3ad-fde8153149df",
   "metadata": {},
   "outputs": [
    {
     "data": {
      "text/plain": [
       "com.duckduckgo.mobile.android    148\n",
       "com.brave.browser                 74\n",
       "com.vivaldi.browser               74\n",
       "com.transsion.phoenix             74\n",
       "Name: App ID, dtype: int64"
      ]
     },
     "execution_count": 208,
     "metadata": {},
     "output_type": "execute_result"
    }
   ],
   "source": [
    "data[data['Keyword']=='best privacy browsers']['App ID'].value_counts()"
   ]
  },
  {
   "cell_type": "code",
   "execution_count": 209,
   "id": "4860f2a6-9a2e-4db7-8c09-1dc048d474f7",
   "metadata": {},
   "outputs": [
    {
     "data": {
      "text/plain": [
       "com.duckduckgo.mobile.android    148\n",
       "com.brave.browser                 74\n",
       "com.vivaldi.browser               74\n",
       "com.transsion.phoenix             74\n",
       "Name: App ID, dtype: int64"
      ]
     },
     "execution_count": 209,
     "metadata": {},
     "output_type": "execute_result"
    }
   ],
   "source": [
    "data[data['Keyword']=='fast browser']['App ID'].value_counts()"
   ]
  },
  {
   "cell_type": "code",
   "execution_count": 210,
   "id": "0c7bc97b-5af2-446f-affe-c3460d2d5390",
   "metadata": {},
   "outputs": [
    {
     "data": {
      "text/plain": [
       "com.duckduckgo.mobile.android    148\n",
       "com.brave.browser                 74\n",
       "com.vivaldi.browser               74\n",
       "com.transsion.phoenix             74\n",
       "Name: App ID, dtype: int64"
      ]
     },
     "execution_count": 210,
     "metadata": {},
     "output_type": "execute_result"
    }
   ],
   "source": [
    "data[data['Keyword']=='ad free browser']['App ID'].value_counts()"
   ]
  },
  {
   "cell_type": "code",
   "execution_count": 214,
   "id": "09b67869-c813-4375-8348-fd99cb072fe6",
   "metadata": {},
   "outputs": [
    {
     "data": {
      "text/plain": [
       "array(['The small, fastest, secure Web Browser, best mobile browser, fast search Google.',\n",
       "       'Fast, simple, and secure. Google Chrome browser for Android phones and tablets.',\n",
       "       'Fast, safe web browser: free VPN, Ad blocker, QR-code reader &amp; personalized news',\n",
       "       'Puffin TV Browser - One App to Watch All Videos on the Web',\n",
       "       'Puffin TV Browser - One App to Watch All Videos on the Web.',\n",
       "       'Free, safe internet browser! Private browsing, search engine &amp; pop-up blocker.',\n",
       "       'Fast &amp; private web browser with ad blocker, sync, dark &amp; private mode.',\n",
       "       'Browse the web privately, search anonymously, and escape ad trackers.',\n",
       "       'Funny video, Football &amp; celebrity news, Fast &amp; data-saving browser.'],\n",
       "      dtype=object)"
      ]
     },
     "execution_count": 214,
     "metadata": {},
     "output_type": "execute_result"
    }
   ],
   "source": [
    "data['Short Description'].unique()"
   ]
  },
  {
   "cell_type": "code",
   "execution_count": 217,
   "id": "a664f0bf-021e-43c1-8307-2ffee888f1b2",
   "metadata": {},
   "outputs": [
    {
     "data": {
      "text/plain": [
       "5       2020-12-16\n",
       "6       2020-12-16\n",
       "7       2020-12-16\n",
       "8       2020-12-16\n",
       "18      2020-12-17\n",
       "           ...    \n",
       "3028    2021-03-06\n",
       "3032    2021-03-06\n",
       "3033    2021-03-06\n",
       "3037    2021-03-06\n",
       "3038    2021-03-06\n",
       "Name: Date, Length: 562, dtype: object"
      ]
     },
     "execution_count": 217,
     "metadata": {},
     "output_type": "execute_result"
    }
   ],
   "source": [
    "data[data['Rank']==1]['Date']"
   ]
  },
  {
   "cell_type": "code",
   "execution_count": 242,
   "id": "6f59fd34-fab4-479c-90e4-bdaf50e38ff4",
   "metadata": {},
   "outputs": [],
   "source": [
    "date_browser=data[data['Keyword']=='browser']['Date'].tolist()"
   ]
  },
  {
   "cell_type": "code",
   "execution_count": 228,
   "id": "c416f194-63af-4056-a89d-f3156ea56518",
   "metadata": {},
   "outputs": [],
   "source": [
    "appid_list=data['App ID'].unique().tolist()"
   ]
  },
  {
   "cell_type": "code",
   "execution_count": 229,
   "id": "307a34b5-2836-44ed-8317-e3a3aa07d19a",
   "metadata": {},
   "outputs": [],
   "source": [
    "keyword_list=data['Keyword'].unique().tolist()"
   ]
  },
  {
   "cell_type": "code",
   "execution_count": 233,
   "id": "309b498a-d7f4-44bf-9323-6499a2f93ca4",
   "metadata": {},
   "outputs": [],
   "source": [
    "x=data[data['App ID']=='com.cloudmosa.puffinTV']['Rank']\n",
    "y=data[data['App ID']=='com.cloudmosa.puffinTV']['Date']"
   ]
  },
  {
   "cell_type": "code",
   "execution_count": 231,
   "id": "741b4a2c-23c1-45d1-b7d5-2e3da2cf1e95",
   "metadata": {},
   "outputs": [],
   "source": [
    "import matplotlib.pyplot as plt"
   ]
  },
  {
   "cell_type": "code",
   "execution_count": 246,
   "id": "f7b5f37c-4465-4449-b0c2-2586576558c2",
   "metadata": {},
   "outputs": [
    {
     "data": {
      "image/png": "[encoded data removed]",
      "text/plain": [
       "<Figure size 720x432 with 1 Axes>"
      ]
     },
     "metadata": {
      "needs_background": "light"
     },
     "output_type": "display_data"
    }
   ],
   "source": [
    "plt.plot(date_browser,x)\n",
    "plt.rcParams[\"figure.figsize\"] = (20,6)"
   ]
  },
  {
   "cell_type": "code",
   "execution_count": 247,
   "id": "d4b98f63-df00-4ffc-b0b3-018e5c7704fa",
   "metadata": {},
   "outputs": [
    {
     "data": {
      "text/plain": [
       "1        2\n",
       "2        3\n",
       "3        4\n",
       "4        4\n",
       "5        1\n",
       "        ..\n",
       "3054    10\n",
       "3055     4\n",
       "3056     4\n",
       "3057     4\n",
       "3058     4\n",
       "Name: Rank, Length: 608, dtype: int64"
      ]
     },
     "execution_count": 247,
     "metadata": {},
     "output_type": "execute_result"
    }
   ],
   "source": [
    "data[data['Keyword']=='browser']['Rank']"
   ]
  },
  {
   "cell_type": "code",
   "execution_count": 253,
   "id": "ad4d0fa1-af14-47fd-81aa-c7e0d05d7d58",
   "metadata": {},
   "outputs": [],
   "source": [
    "list_keyword=data['Keyword'].unique().tolist()"
   ]
  },
  {
   "cell_type": "code",
   "execution_count": 266,
   "id": "f02ef922-a0e9-484c-baf2-b0961b55eef8",
   "metadata": {
    "collapsed": true,
    "jupyter": {
     "outputs_hidden": true
    },
    "tags": []
   },
   "outputs": [
    {
     "name": "stdout",
     "output_type": "stream",
     "text": [
      "*** browser\n",
      "net.fast.web.browser\n",
      "1     31\n",
      "2     21\n",
      "5      9\n",
      "3      8\n",
      "4      3\n",
      "12     1\n",
      "11     1\n",
      "15     1\n",
      "9      1\n",
      "Name: Rank, dtype: int64\n",
      " \n",
      "com.android.chrome\n",
      "1     18\n",
      "8      7\n",
      "3      7\n",
      "2      6\n",
      "4      6\n",
      "6      5\n",
      "14     5\n",
      "13     4\n",
      "11     3\n",
      "10     3\n",
      "16     3\n",
      "15     2\n",
      "7      2\n",
      "17     2\n",
      "5      1\n",
      "12     1\n",
      "20     1\n",
      "Name: Rank, dtype: int64\n",
      " \n",
      "com.opera.browser\n",
      "3     32\n",
      "5     30\n",
      "4     26\n",
      "7     14\n",
      "10    10\n",
      "1      8\n",
      "6      8\n",
      "8      8\n",
      "9      8\n",
      "2      4\n",
      "14     4\n",
      "Name: Rank, dtype: int64\n",
      " \n",
      "com.cloudmosa.puffinTV\n",
      "2     124\n",
      "1      72\n",
      "3      36\n",
      "4      32\n",
      "5      16\n",
      "6       8\n",
      "7       8\n",
      "14      4\n",
      "10      4\n",
      "Name: Rank, dtype: int64\n",
      " \n",
      "*** android browser\n",
      "net.fast.web.browser\n",
      "8     12\n",
      "11    11\n",
      "7      8\n",
      "10     8\n",
      "14     7\n",
      "9      7\n",
      "13     6\n",
      "12     6\n",
      "6      5\n",
      "4      2\n",
      "16     1\n",
      "5      1\n",
      "24     1\n",
      "15     1\n",
      "Name: Rank, dtype: int64\n",
      " \n",
      "com.android.chrome\n",
      "12    13\n",
      "14    12\n",
      "11    11\n",
      "13    11\n",
      "15     9\n",
      "10     5\n",
      "8      4\n",
      "16     4\n",
      "7      2\n",
      "18     2\n",
      "17     1\n",
      "9      1\n",
      "20     1\n",
      "Name: Rank, dtype: int64\n",
      " \n",
      "com.opera.browser\n",
      "2    34\n",
      "3    30\n",
      "6    26\n",
      "5    20\n",
      "4    18\n",
      "7    12\n",
      "8     8\n",
      "9     4\n",
      "Name: Rank, dtype: int64\n",
      " \n",
      "com.cloudmosa.puffinTV\n",
      "2     88\n",
      "3     44\n",
      "4     44\n",
      "7     32\n",
      "6     28\n",
      "9     16\n",
      "5     16\n",
      "12     8\n",
      "11     8\n",
      "10     8\n",
      "8      8\n",
      "14     4\n",
      "Name: Rank, dtype: int64\n",
      " \n",
      "*** privacy browser\n",
      "com.brave.browser\n",
      "2    54\n",
      "3     9\n",
      "4     5\n",
      "5     4\n",
      "1     2\n",
      "Name: Rank, dtype: int64\n",
      " \n",
      "com.vivaldi.browser\n",
      "50     5\n",
      "67     4\n",
      "96     3\n",
      "76     3\n",
      "88     3\n",
      "87     3\n",
      "69     3\n",
      "68     3\n",
      "80     3\n",
      "54     2\n",
      "53     2\n",
      "51     2\n",
      "90     2\n",
      "89     2\n",
      "71     2\n",
      "73     2\n",
      "75     2\n",
      "105    2\n",
      "66     2\n",
      "115    2\n",
      "59     2\n",
      "79     2\n",
      "52     1\n",
      "56     1\n",
      "78     1\n",
      "116    1\n",
      "70     1\n",
      "65     1\n",
      "83     1\n",
      "44     1\n",
      "48     1\n",
      "100    1\n",
      "77     1\n",
      "64     1\n",
      "93     1\n",
      "63     1\n",
      "62     1\n",
      "58     1\n",
      "0      1\n",
      "106    1\n",
      "Name: Rank, dtype: int64\n",
      " \n",
      "com.duckduckgo.mobile.android\n",
      "1    142\n",
      "2      4\n",
      "8      2\n",
      "Name: Rank, dtype: int64\n",
      " \n",
      "com.transsion.phoenix\n",
      "20    10\n",
      "18     7\n",
      "17     6\n",
      "19     5\n",
      "14     5\n",
      "22     5\n",
      "25     4\n",
      "16     4\n",
      "15     4\n",
      "21     4\n",
      "24     3\n",
      "26     3\n",
      "27     3\n",
      "31     2\n",
      "23     1\n",
      "29     1\n",
      "32     1\n",
      "28     1\n",
      "12     1\n",
      "30     1\n",
      "13     1\n",
      "38     1\n",
      "34     1\n",
      "Name: Rank, dtype: int64\n",
      " \n",
      "*** privacy browsers for android\n",
      "com.brave.browser\n",
      "2    63\n",
      "3     8\n",
      "4     2\n",
      "1     1\n",
      "Name: Rank, dtype: int64\n",
      " \n",
      "com.vivaldi.browser\n",
      "0      5\n",
      "50     4\n",
      "55     4\n",
      "60     4\n",
      "59     4\n",
      "53     3\n",
      "48     2\n",
      "73     2\n",
      "79     2\n",
      "67     2\n",
      "77     2\n",
      "105    2\n",
      "61     2\n",
      "68     2\n",
      "71     2\n",
      "42     2\n",
      "74     2\n",
      "40     2\n",
      "57     2\n",
      "86     1\n",
      "58     1\n",
      "87     1\n",
      "92     1\n",
      "69     1\n",
      "35     1\n",
      "90     1\n",
      "36     1\n",
      "89     1\n",
      "52     1\n",
      "54     1\n",
      "78     1\n",
      "81     1\n",
      "84     1\n",
      "97     1\n",
      "82     1\n",
      "94     1\n",
      "96     1\n",
      "63     1\n",
      "47     1\n",
      "45     1\n",
      "43     1\n",
      "134    1\n",
      "38     1\n",
      "Name: Rank, dtype: int64\n",
      " \n",
      "com.duckduckgo.mobile.android\n",
      "1    146\n",
      "5      2\n",
      "Name: Rank, dtype: int64\n",
      " \n",
      "com.transsion.phoenix\n",
      "17    15\n",
      "18    13\n",
      "16    10\n",
      "15     8\n",
      "19     8\n",
      "14     5\n",
      "22     4\n",
      "23     3\n",
      "20     2\n",
      "21     2\n",
      "28     2\n",
      "13     1\n",
      "24     1\n",
      "Name: Rank, dtype: int64\n",
      " \n",
      "*** best privacy browsers\n",
      "com.brave.browser\n",
      "2     32\n",
      "3     17\n",
      "4     14\n",
      "1      2\n",
      "5      2\n",
      "8      2\n",
      "6      2\n",
      "7      1\n",
      "13     1\n",
      "10     1\n",
      "Name: Rank, dtype: int64\n",
      " \n",
      "com.vivaldi.browser\n",
      "0      9\n",
      "57     4\n",
      "43     3\n",
      "71     3\n",
      "108    3\n",
      "42     2\n",
      "65     2\n",
      "80     2\n",
      "52     2\n",
      "118    2\n",
      "86     2\n",
      "98     2\n",
      "97     2\n",
      "75     1\n",
      "82     1\n",
      "102    1\n",
      "63     1\n",
      "94     1\n",
      "67     1\n",
      "109    1\n",
      "100    1\n",
      "91     1\n",
      "116    1\n",
      "117    1\n",
      "104    1\n",
      "40     1\n",
      "45     1\n",
      "38     1\n",
      "87     1\n",
      "68     1\n",
      "107    1\n",
      "78     1\n",
      "39     1\n",
      "51     1\n",
      "48     1\n",
      "58     1\n",
      "55     1\n",
      "53     1\n",
      "59     1\n",
      "83     1\n",
      "112    1\n",
      "79     1\n",
      "105    1\n",
      "81     1\n",
      "89     1\n",
      "72     1\n",
      "60     1\n",
      "69     1\n",
      "44     1\n",
      "Name: Rank, dtype: int64\n",
      " \n",
      "com.duckduckgo.mobile.android\n",
      "1    140\n",
      "2      8\n",
      "Name: Rank, dtype: int64\n",
      " \n",
      "com.transsion.phoenix\n",
      "16    11\n",
      "10     7\n",
      "17     6\n",
      "22     4\n",
      "13     4\n",
      "23     3\n",
      "28     3\n",
      "34     3\n",
      "21     3\n",
      "29     3\n",
      "8      3\n",
      "11     3\n",
      "20     2\n",
      "24     2\n",
      "27     2\n",
      "26     2\n",
      "12     2\n",
      "14     2\n",
      "33     2\n",
      "19     1\n",
      "6      1\n",
      "31     1\n",
      "36     1\n",
      "30     1\n",
      "9      1\n",
      "18     1\n",
      "Name: Rank, dtype: int64\n",
      " \n",
      "*** fast browser\n",
      "com.brave.browser\n",
      "6     21\n",
      "4     14\n",
      "5     13\n",
      "8      8\n",
      "7      8\n",
      "3      5\n",
      "9      2\n",
      "11     1\n",
      "10     1\n",
      "2      1\n",
      "Name: Rank, dtype: int64\n",
      " \n",
      "com.vivaldi.browser\n",
      "89     6\n",
      "110    6\n",
      "90     4\n",
      "92     4\n",
      "99     4\n",
      "109    3\n",
      "70     3\n",
      "106    3\n",
      "104    2\n",
      "108    2\n",
      "105    2\n",
      "91     2\n",
      "93     2\n",
      "97     2\n",
      "103    2\n",
      "100    2\n",
      "95     2\n",
      "83     2\n",
      "107    2\n",
      "75     2\n",
      "96     2\n",
      "81     1\n",
      "54     1\n",
      "65     1\n",
      "84     1\n",
      "86     1\n",
      "74     1\n",
      "98     1\n",
      "85     1\n",
      "76     1\n",
      "94     1\n",
      "60     1\n",
      "114    1\n",
      "101    1\n",
      "0      1\n",
      "67     1\n",
      "Name: Rank, dtype: int64\n",
      " \n",
      "com.duckduckgo.mobile.android\n",
      "30    16\n",
      "21    12\n",
      "24    10\n",
      "32     8\n",
      "23     8\n",
      "31     8\n",
      "40     6\n",
      "20     6\n",
      "33     6\n",
      "34     6\n",
      "28     6\n",
      "26     6\n",
      "17     4\n",
      "19     4\n",
      "44     4\n",
      "25     4\n",
      "18     4\n",
      "22     4\n",
      "35     4\n",
      "27     4\n",
      "11     2\n",
      "15     2\n",
      "13     2\n",
      "42     2\n",
      "29     2\n",
      "39     2\n",
      "43     2\n",
      "37     2\n",
      "16     2\n",
      "Name: Rank, dtype: int64\n",
      " \n",
      "com.transsion.phoenix\n",
      "9     14\n",
      "10    13\n",
      "8     12\n",
      "7     11\n",
      "11     5\n",
      "6      5\n",
      "12     4\n",
      "13     3\n",
      "14     2\n",
      "38     1\n",
      "39     1\n",
      "15     1\n",
      "20     1\n",
      "26     1\n",
      "Name: Rank, dtype: int64\n",
      " \n",
      "*** ad free browser\n",
      "com.brave.browser\n",
      "2    51\n",
      "3    18\n",
      "4     4\n",
      "5     1\n",
      "Name: Rank, dtype: int64\n",
      " \n",
      "com.vivaldi.browser\n",
      "20    10\n",
      "22     7\n",
      "21     6\n",
      "23     5\n",
      "19     5\n",
      "18     4\n",
      "27     4\n",
      "31     3\n",
      "26     2\n",
      "28     2\n",
      "25     2\n",
      "61     2\n",
      "24     2\n",
      "38     2\n",
      "52     2\n",
      "30     2\n",
      "50     1\n",
      "45     1\n",
      "46     1\n",
      "41     1\n",
      "36     1\n",
      "39     1\n",
      "56     1\n",
      "48     1\n",
      "51     1\n",
      "40     1\n",
      "42     1\n",
      "29     1\n",
      "34     1\n",
      "17     1\n",
      "Name: Rank, dtype: int64\n",
      " \n",
      "com.duckduckgo.mobile.android\n",
      "6    104\n",
      "7     24\n",
      "5     10\n",
      "8      8\n",
      "9      2\n",
      "Name: Rank, dtype: int64\n",
      " \n",
      "com.transsion.phoenix\n",
      "53     4\n",
      "43     4\n",
      "109    3\n",
      "44     3\n",
      "107    3\n",
      "40     3\n",
      "29     3\n",
      "46     2\n",
      "36     2\n",
      "102    2\n",
      "105    2\n",
      "42     2\n",
      "32     2\n",
      "28     2\n",
      "48     2\n",
      "57     2\n",
      "101    1\n",
      "65     1\n",
      "82     1\n",
      "78     1\n",
      "58     1\n",
      "106    1\n",
      "104    1\n",
      "69     1\n",
      "61     1\n",
      "33     1\n",
      "50     1\n",
      "52     1\n",
      "34     1\n",
      "35     1\n",
      "74     1\n",
      "103    1\n",
      "113    1\n",
      "117    1\n",
      "119    1\n",
      "51     1\n",
      "55     1\n",
      "73     1\n",
      "81     1\n",
      "79     1\n",
      "111    1\n",
      "41     1\n",
      "37     1\n",
      "24     1\n",
      "26     1\n",
      "39     1\n",
      "60     1\n",
      "27     1\n",
      "31     1\n",
      "Name: Rank, dtype: int64\n",
      " \n"
     ]
    }
   ],
   "source": [
    "for i in list_keyword:\n",
    "    print('***',i)\n",
    "    for j in appid_list:\n",
    "        data1=data[data['Keyword']==i]\n",
    "        if data1[data1['App ID']==j].shape[0]>0:\n",
    "            print(j)\n",
    "            print(data1[data1['App ID']==j]['Rank'].value_counts())\n",
    "            print(' ')"
   ]
  },
  {
   "cell_type": "code",
   "execution_count": 267,
   "id": "0138e9c4-cb40-4b7b-8d8e-a1c6201156d2",
   "metadata": {},
   "outputs": [],
   "source": [
    "list_short_des=data['Short Description'].unique().tolist()"
   ]
  },
  {
   "cell_type": "code",
   "execution_count": 292,
   "id": "b69bb85b-6c7b-4427-a297-e2214638efb8",
   "metadata": {},
   "outputs": [
    {
     "name": "stdout",
     "output_type": "stream",
     "text": [
      "The small, fastest, secure Web Browser, best mobile browser, fast search Google.\n",
      "appid ['net.fast.web.browser']\n",
      "keyword ['browser' 'android browser']\n",
      "max count 31\n",
      "min 1\n",
      "max 24\n",
      "mean 6.3355263157894735\n",
      "mode 0    1\n",
      "dtype: int64\n",
      "----------\n",
      "Fast, simple, and secure. Google Chrome browser for Android phones and tablets.\n",
      "appid ['com.android.chrome']\n",
      "keyword ['browser' 'android browser']\n",
      "max count 18\n",
      "min 1\n",
      "max 20\n",
      "mean 9.697368421052632\n",
      "mode 0    1\n",
      "dtype: int64\n",
      "----------\n",
      "Fast, safe web browser: free VPN, Ad blocker, QR-code reader &amp; personalized news\n",
      "appid ['com.opera.browser']\n",
      "keyword ['browser' 'android browser']\n",
      "max count 62\n",
      "min 1\n",
      "max 14\n",
      "mean 4.848684210526316\n",
      "mode 0    3\n",
      "dtype: int64\n",
      "----------\n",
      "Puffin TV Browser - One App to Watch All Videos on the Web\n",
      "appid ['com.cloudmosa.puffinTV']\n",
      "keyword ['browser' 'android browser']\n",
      "max count 106\n",
      "min 1\n",
      "max 14\n",
      "mean 3.8157894736842106\n",
      "mode 0    2\n",
      "dtype: int64\n",
      "----------\n",
      "Puffin TV Browser - One App to Watch All Videos on the Web.\n",
      "appid ['com.cloudmosa.puffinTV']\n",
      "keyword ['browser' 'android browser']\n",
      "max count 106\n",
      "min 1\n",
      "max 14\n",
      "mean 3.8157894736842106\n",
      "mode 0    2\n",
      "dtype: int64\n",
      "----------\n",
      "Free, safe internet browser! Private browsing, search engine &amp; pop-up blocker.\n",
      "appid ['com.brave.browser']\n",
      "keyword ['privacy browser' 'privacy browsers for android' 'best privacy browsers'\n",
      " 'fast browser' 'ad free browser']\n",
      "max count 201\n",
      "min 1\n",
      "max 13\n",
      "mean 3.1810810810810812\n",
      "mode 0    2\n",
      "dtype: int64\n",
      "----------\n",
      "Fast &amp; private web browser with ad blocker, sync, dark &amp; private mode.\n",
      "appid ['com.vivaldi.browser']\n",
      "keyword ['privacy browser' 'privacy browsers for android' 'best privacy browsers'\n",
      " 'fast browser' 'ad free browser']\n",
      "max count 16\n",
      "min 0\n",
      "max 134\n",
      "mean 64.20270270270271\n",
      "mode 0    0\n",
      "dtype: int64\n",
      "----------\n",
      "Browse the web privately, search anonymously, and escape ad trackers.\n",
      "appid ['com.duckduckgo.mobile.android']\n",
      "keyword ['privacy browser' 'privacy browsers for android' 'best privacy browsers'\n",
      " 'fast browser' 'ad free browser']\n",
      "max count 428\n",
      "min 1\n",
      "max 44\n",
      "mean 7.386486486486486\n",
      "mode 0    1\n",
      "dtype: int64\n",
      "----------\n",
      "Funny video, Football &amp; celebrity news, Fast &amp; data-saving browser.\n",
      "appid ['com.transsion.phoenix']\n",
      "keyword ['privacy browser' 'privacy browsers for android' 'best privacy browsers'\n",
      " 'fast browser' 'ad free browser']\n",
      "max count 27\n",
      "min 6\n",
      "max 119\n",
      "mean 25.935135135135134\n",
      "mode 0    17\n",
      "dtype: int64\n",
      "----------\n"
     ]
    }
   ],
   "source": [
    "for i in list_short_des:\n",
    "    print(i)\n",
    "    print('appid',data[data['Short Description']==i]['App ID'].unique())\n",
    "    print('keyword',data[data['Short Description']==i]['Keyword'].unique())\n",
    "    print('max count',data[data['Short Description']==i]['Rank'].value_counts().max())\n",
    "    #print(data[data['Short Description']==i]['Rank'].value_counts())\n",
    "    print('min',data[data['Short Description']==i]['Rank'].min())\n",
    "    print('max',data[data['Short Description']==i]['Rank'].max())\n",
    "    print('mean',data[data['Short Description']==i]['Rank'].mean())\n",
    "    print('mode',data[data['Short Description']==i]['Rank'].mode())\n",
    "    print('-'*10)"
   ]
  },
  {
   "cell_type": "code",
   "execution_count": 286,
   "id": "f507b31f-1e7e-4e01-b766-0cd8cba2ee13",
   "metadata": {},
   "outputs": [
    {
     "data": {
      "text/plain": [
       "0    1\n",
       "dtype: int64"
      ]
     },
     "execution_count": 286,
     "metadata": {},
     "output_type": "execute_result"
    }
   ],
   "source": [
    "data['Rank'].mode(dropna=False)"
   ]
  },
  {
   "cell_type": "code",
   "execution_count": 299,
   "id": "09bcdf0a-3917-4212-82e8-65384b8d3946",
   "metadata": {},
   "outputs": [
    {
     "data": {
      "text/html": [
       "<div>\n",
       "<style scoped>\n",
       "    .dataframe tbody tr th:only-of-type {\n",
       "        vertical-align: middle;\n",
       "    }\n",
       "\n",
       "    .dataframe tbody tr th {\n",
       "        vertical-align: top;\n",
       "    }\n",
       "\n",
       "    .dataframe thead th {\n",
       "        text-align: right;\n",
       "    }\n",
       "</style>\n",
       "<table border=\"1\" class=\"dataframe\">\n",
       "  <thead>\n",
       "    <tr style=\"text-align: right;\">\n",
       "      <th></th>\n",
       "      <th>Keyword</th>\n",
       "      <th>Rank</th>\n",
       "      <th>App ID</th>\n",
       "      <th>Short Description</th>\n",
       "      <th>Long Description</th>\n",
       "    </tr>\n",
       "  </thead>\n",
       "  <tbody>\n",
       "    <tr>\n",
       "      <th>Keyword</th>\n",
       "      <td>1.000000</td>\n",
       "      <td>-0.225641</td>\n",
       "      <td>0.069303</td>\n",
       "      <td>-0.208246</td>\n",
       "      <td>0.185464</td>\n",
       "    </tr>\n",
       "    <tr>\n",
       "      <th>Rank</th>\n",
       "      <td>-0.225641</td>\n",
       "      <td>1.000000</td>\n",
       "      <td>0.169183</td>\n",
       "      <td>0.057984</td>\n",
       "      <td>-0.047790</td>\n",
       "    </tr>\n",
       "    <tr>\n",
       "      <th>App ID</th>\n",
       "      <td>0.069303</td>\n",
       "      <td>0.169183</td>\n",
       "      <td>1.000000</td>\n",
       "      <td>-0.037020</td>\n",
       "      <td>0.138052</td>\n",
       "    </tr>\n",
       "    <tr>\n",
       "      <th>Short Description</th>\n",
       "      <td>-0.208246</td>\n",
       "      <td>0.057984</td>\n",
       "      <td>-0.037020</td>\n",
       "      <td>1.000000</td>\n",
       "      <td>-0.488936</td>\n",
       "    </tr>\n",
       "    <tr>\n",
       "      <th>Long Description</th>\n",
       "      <td>0.185464</td>\n",
       "      <td>-0.047790</td>\n",
       "      <td>0.138052</td>\n",
       "      <td>-0.488936</td>\n",
       "      <td>1.000000</td>\n",
       "    </tr>\n",
       "  </tbody>\n",
       "</table>\n",
       "</div>"
      ],
      "text/plain": [
       "                    Keyword      Rank    App ID  Short Description  \\\n",
       "Keyword            1.000000 -0.225641  0.069303          -0.208246   \n",
       "Rank              -0.225641  1.000000  0.169183           0.057984   \n",
       "App ID             0.069303  0.169183  1.000000          -0.037020   \n",
       "Short Description -0.208246  0.057984 -0.037020           1.000000   \n",
       "Long Description   0.185464 -0.047790  0.138052          -0.488936   \n",
       "\n",
       "                   Long Description  \n",
       "Keyword                    0.185464  \n",
       "Rank                      -0.047790  \n",
       "App ID                     0.138052  \n",
       "Short Description         -0.488936  \n",
       "Long Description           1.000000  "
      ]
     },
     "execution_count": 299,
     "metadata": {},
     "output_type": "execute_result"
    }
   ],
   "source": [
    "df=p.read_csv('browser_rankings_data.csv')\n",
    "df=df.reset_index()\n",
    "df=df.rename(columns=df.iloc[0])\n",
    "df.drop(data.index[0], inplace = True)\n",
    "\n",
    "df['Short Description']=df['Short Description'].astype('category').cat.codes\n",
    "df['Long Description']=df['Long Description'].astype('category').cat.codes\n",
    "df['Rank']=df['Rank'].astype('category').cat.codes\n",
    "df['Keyword']=df['Keyword'].astype('category').cat.codes\n",
    "df['App ID']=df['App ID'].astype('category').cat.codes\n",
    "\n",
    "\n",
    "df.corr()"
   ]
  },
  {
   "cell_type": "code",
   "execution_count": 322,
   "id": "90ec8792-7d54-48ec-8f74-da61240631d0",
   "metadata": {},
   "outputs": [
    {
     "data": {
      "text/plain": [
       "array(['browser', 'privacy browser', 'privacy browsers for android',\n",
       "       'best privacy browsers'], dtype=object)"
      ]
     },
     "execution_count": 322,
     "metadata": {},
     "output_type": "execute_result"
    }
   ],
   "source": [
    "data[data['Rank']==1]['Keyword'].unique()"
   ]
  },
  {
   "cell_type": "code",
   "execution_count": 313,
   "id": "bb67c222-c085-4473-8b0a-b5785f0917ee",
   "metadata": {},
   "outputs": [
    {
     "data": {
      "text/plain": [
       "array(['browser', 'android browser', 'privacy browser',\n",
       "       'privacy browsers for android', 'best privacy browsers',\n",
       "       'fast browser', 'ad free browser'], dtype=object)"
      ]
     },
     "execution_count": 313,
     "metadata": {},
     "output_type": "execute_result"
    }
   ],
   "source": [
    "data['Keyword'].unique()"
   ]
  },
  {
   "cell_type": "code",
   "execution_count": 323,
   "id": "180a8e37-3c01-47df-9f37-137a1806187b",
   "metadata": {},
   "outputs": [
    {
     "data": {
      "text/plain": [
       "array(['com.cloudmosa.puffinTV', 'com.opera.browser',\n",
       "       'com.duckduckgo.mobile.android', 'net.fast.web.browser',\n",
       "       'com.android.chrome', 'com.brave.browser'], dtype=object)"
      ]
     },
     "execution_count": 323,
     "metadata": {},
     "output_type": "execute_result"
    }
   ],
   "source": [
    "data[data['Rank']==1]['App ID'].unique()"
   ]
  },
  {
   "cell_type": "code",
   "execution_count": 324,
   "id": "96a633e5-e289-44e4-8897-584aa3fba2c0",
   "metadata": {},
   "outputs": [
    {
     "data": {
      "text/plain": [
       "array(['net.fast.web.browser', 'com.android.chrome', 'com.opera.browser',\n",
       "       'com.cloudmosa.puffinTV', 'com.brave.browser',\n",
       "       'com.vivaldi.browser', 'com.duckduckgo.mobile.android',\n",
       "       'com.transsion.phoenix'], dtype=object)"
      ]
     },
     "execution_count": 324,
     "metadata": {},
     "output_type": "execute_result"
    }
   ],
   "source": [
    "data['App ID'].unique()"
   ]
  },
  {
   "cell_type": "code",
   "execution_count": 365,
   "id": "134c35ed-3c9e-4816-a02e-6f4af84f1f54",
   "metadata": {},
   "outputs": [
    {
     "data": {
      "text/plain": [
       "browser            1\n",
       "android browser    1\n",
       "Name: Keyword, dtype: int64"
      ]
     },
     "execution_count": 365,
     "metadata": {},
     "output_type": "execute_result"
    }
   ],
   "source": [
    "data[(data['App ID']=='com.android.chrome') & (data['Rank']==20)]['Keyword'].value_counts()\n",
    "\n",
    "## Google chrome as rank 1 for 18 times using keyword browser\n",
    "## Google chrome ranks in top 10 as app when used keywords 'browser', 'android browser' 68 times\n",
    "## Its ranks 7 when android browser is used as keyword for 2 times \n",
    "\n",
    "#The lowest rank was 20 and it got when browser and android browser used as keywords"
   ]
  },
  {
   "cell_type": "code",
   "execution_count": 366,
   "id": "9a70c74c-0530-4d38-a3e7-b74a1c10ffda",
   "metadata": {},
   "outputs": [
    {
     "data": {
      "text/html": [
       "<div>\n",
       "<style scoped>\n",
       "    .dataframe tbody tr th:only-of-type {\n",
       "        vertical-align: middle;\n",
       "    }\n",
       "\n",
       "    .dataframe tbody tr th {\n",
       "        vertical-align: top;\n",
       "    }\n",
       "\n",
       "    .dataframe thead th {\n",
       "        text-align: right;\n",
       "    }\n",
       "</style>\n",
       "<table border=\"1\" class=\"dataframe\">\n",
       "  <thead>\n",
       "    <tr style=\"text-align: right;\">\n",
       "      <th></th>\n",
       "      <th>ID</th>\n",
       "      <th>Keyword</th>\n",
       "      <th>Rank</th>\n",
       "      <th>Country</th>\n",
       "      <th>Language</th>\n",
       "      <th>Date</th>\n",
       "      <th>App ID</th>\n",
       "      <th>Date of Last Description Change</th>\n",
       "      <th>Short Description</th>\n",
       "      <th>Long Description</th>\n",
       "    </tr>\n",
       "  </thead>\n",
       "  <tbody>\n",
       "    <tr>\n",
       "      <th>1866</th>\n",
       "      <td>69059</td>\n",
       "      <td>browser</td>\n",
       "      <td>20</td>\n",
       "      <td>in</td>\n",
       "      <td>en</td>\n",
       "      <td>2021-02-05</td>\n",
       "      <td>com.android.chrome</td>\n",
       "      <td>2020-12-18</td>\n",
       "      <td>Fast, simple, and secure. Google Chrome browse...</td>\n",
       "      <td>Google Chrome is a fast, easy to use, and secu...</td>\n",
       "    </tr>\n",
       "    <tr>\n",
       "      <th>2694</th>\n",
       "      <td>111558</td>\n",
       "      <td>android browser</td>\n",
       "      <td>20</td>\n",
       "      <td>in</td>\n",
       "      <td>en</td>\n",
       "      <td>2021-02-25</td>\n",
       "      <td>com.android.chrome</td>\n",
       "      <td>2020-12-18</td>\n",
       "      <td>Fast, simple, and secure. Google Chrome browse...</td>\n",
       "      <td>Google Chrome is a fast, easy to use, and secu...</td>\n",
       "    </tr>\n",
       "  </tbody>\n",
       "</table>\n",
       "</div>"
      ],
      "text/plain": [
       "          ID          Keyword  Rank Country Language        Date  \\\n",
       "1866   69059          browser    20      in       en  2021-02-05   \n",
       "2694  111558  android browser    20      in       en  2021-02-25   \n",
       "\n",
       "                  App ID Date of Last Description Change  \\\n",
       "1866  com.android.chrome                      2020-12-18   \n",
       "2694  com.android.chrome                      2020-12-18   \n",
       "\n",
       "                                      Short Description  \\\n",
       "1866  Fast, simple, and secure. Google Chrome browse...   \n",
       "2694  Fast, simple, and secure. Google Chrome browse...   \n",
       "\n",
       "                                       Long Description  \n",
       "1866  Google Chrome is a fast, easy to use, and secu...  \n",
       "2694  Google Chrome is a fast, easy to use, and secu...  "
      ]
     },
     "execution_count": 366,
     "metadata": {},
     "output_type": "execute_result"
    }
   ],
   "source": [
    "data[(data['App ID']=='com.android.chrome') & (data['Rank']==20)]"
   ]
  },
  {
   "cell_type": "code",
   "execution_count": 379,
   "id": "7abc7178-bb58-4354-842a-8794d524ac3a",
   "metadata": {},
   "outputs": [
    {
     "data": {
      "text/plain": [
       "browser    4\n",
       "Name: Keyword, dtype: int64"
      ]
     },
     "execution_count": 379,
     "metadata": {},
     "output_type": "execute_result"
    }
   ],
   "source": [
    "data[(data['App ID']=='com.opera.browser') & (data['Rank']>10)]['Keyword'].value_counts()"
   ]
  },
  {
   "cell_type": "code",
   "execution_count": 380,
   "id": "75ea2479-8304-4ef6-92fe-0a35cc4d796a",
   "metadata": {},
   "outputs": [
    {
     "data": {
      "text/html": [
       "<div>\n",
       "<style scoped>\n",
       "    .dataframe tbody tr th:only-of-type {\n",
       "        vertical-align: middle;\n",
       "    }\n",
       "\n",
       "    .dataframe tbody tr th {\n",
       "        vertical-align: top;\n",
       "    }\n",
       "\n",
       "    .dataframe thead th {\n",
       "        text-align: right;\n",
       "    }\n",
       "</style>\n",
       "<table border=\"1\" class=\"dataframe\">\n",
       "  <thead>\n",
       "    <tr style=\"text-align: right;\">\n",
       "      <th></th>\n",
       "      <th>ID</th>\n",
       "      <th>Keyword</th>\n",
       "      <th>Rank</th>\n",
       "      <th>Country</th>\n",
       "      <th>Language</th>\n",
       "      <th>Date</th>\n",
       "      <th>App ID</th>\n",
       "      <th>Date of Last Description Change</th>\n",
       "      <th>Short Description</th>\n",
       "      <th>Long Description</th>\n",
       "    </tr>\n",
       "  </thead>\n",
       "  <tbody>\n",
       "    <tr>\n",
       "      <th>2395</th>\n",
       "      <td>96247</td>\n",
       "      <td>browser</td>\n",
       "      <td>14</td>\n",
       "      <td>in</td>\n",
       "      <td>en</td>\n",
       "      <td>2021-02-18</td>\n",
       "      <td>com.opera.browser</td>\n",
       "      <td>2021-02-27</td>\n",
       "      <td>Fast, safe web browser: free VPN, Ad blocker, ...</td>\n",
       "      <td>Fast, safe and private, introducing the latest...</td>\n",
       "    </tr>\n",
       "    <tr>\n",
       "      <th>2396</th>\n",
       "      <td>96247</td>\n",
       "      <td>browser</td>\n",
       "      <td>14</td>\n",
       "      <td>in</td>\n",
       "      <td>en</td>\n",
       "      <td>2021-02-18</td>\n",
       "      <td>com.opera.browser</td>\n",
       "      <td>2020-12-18</td>\n",
       "      <td>Fast, safe web browser: free VPN, Ad blocker, ...</td>\n",
       "      <td>Opera is a fast, safe web browser for your And...</td>\n",
       "    </tr>\n",
       "    <tr>\n",
       "      <th>2440</th>\n",
       "      <td>98226</td>\n",
       "      <td>browser</td>\n",
       "      <td>14</td>\n",
       "      <td>in</td>\n",
       "      <td>en</td>\n",
       "      <td>2021-02-19</td>\n",
       "      <td>com.opera.browser</td>\n",
       "      <td>2021-02-27</td>\n",
       "      <td>Fast, safe web browser: free VPN, Ad blocker, ...</td>\n",
       "      <td>Fast, safe and private, introducing the latest...</td>\n",
       "    </tr>\n",
       "    <tr>\n",
       "      <th>2441</th>\n",
       "      <td>98226</td>\n",
       "      <td>browser</td>\n",
       "      <td>14</td>\n",
       "      <td>in</td>\n",
       "      <td>en</td>\n",
       "      <td>2021-02-19</td>\n",
       "      <td>com.opera.browser</td>\n",
       "      <td>2020-12-18</td>\n",
       "      <td>Fast, safe web browser: free VPN, Ad blocker, ...</td>\n",
       "      <td>Opera is a fast, safe web browser for your And...</td>\n",
       "    </tr>\n",
       "  </tbody>\n",
       "</table>\n",
       "</div>"
      ],
      "text/plain": [
       "         ID  Keyword  Rank Country Language        Date             App ID  \\\n",
       "2395  96247  browser    14      in       en  2021-02-18  com.opera.browser   \n",
       "2396  96247  browser    14      in       en  2021-02-18  com.opera.browser   \n",
       "2440  98226  browser    14      in       en  2021-02-19  com.opera.browser   \n",
       "2441  98226  browser    14      in       en  2021-02-19  com.opera.browser   \n",
       "\n",
       "     Date of Last Description Change  \\\n",
       "2395                      2021-02-27   \n",
       "2396                      2020-12-18   \n",
       "2440                      2021-02-27   \n",
       "2441                      2020-12-18   \n",
       "\n",
       "                                      Short Description  \\\n",
       "2395  Fast, safe web browser: free VPN, Ad blocker, ...   \n",
       "2396  Fast, safe web browser: free VPN, Ad blocker, ...   \n",
       "2440  Fast, safe web browser: free VPN, Ad blocker, ...   \n",
       "2441  Fast, safe web browser: free VPN, Ad blocker, ...   \n",
       "\n",
       "                                       Long Description  \n",
       "2395  Fast, safe and private, introducing the latest...  \n",
       "2396  Opera is a fast, safe web browser for your And...  \n",
       "2440  Fast, safe and private, introducing the latest...  \n",
       "2441  Opera is a fast, safe web browser for your And...  "
      ]
     },
     "execution_count": 380,
     "metadata": {},
     "output_type": "execute_result"
    }
   ],
   "source": [
    "data[(data['App ID']=='com.opera.browser') & (data['Rank']>10) & (data['Keyword']=='browser')]"
   ]
  },
  {
   "cell_type": "code",
   "execution_count": 381,
   "id": "d6876866-d437-4b1b-b936-c74c463935e6",
   "metadata": {},
   "outputs": [
    {
     "data": {
      "text/plain": [
       "array(['2021-02-27', '2020-12-18'], dtype=object)"
      ]
     },
     "execution_count": 381,
     "metadata": {},
     "output_type": "execute_result"
    }
   ],
   "source": [
    "data[data['App ID']=='com.opera.browser']['Date of Last Description Change'].unique()"
   ]
  },
  {
   "cell_type": "code",
   "execution_count": 382,
   "id": "8f4e96d9-27d5-43b0-a97b-d96e3f031c8f",
   "metadata": {},
   "outputs": [
    {
     "data": {
      "text/plain": [
       "array(['2020-12-16', '2020-12-17', '2020-12-18', '2020-12-19',\n",
       "       '2020-12-21', '2020-12-22', '2020-12-23', '2020-12-24',\n",
       "       '2020-12-25', '2020-12-26', '2020-12-27', '2020-12-28',\n",
       "       '2020-12-29', '2020-12-30', '2020-12-31', '2021-01-01',\n",
       "       '2021-01-02', '2021-01-03', '2021-01-04', '2021-01-05',\n",
       "       '2021-01-06', '2021-01-07', '2021-01-08', '2021-01-09',\n",
       "       '2021-01-10', '2021-01-11', '2021-01-12', '2021-01-13',\n",
       "       '2021-01-14', '2021-01-15', '2021-01-16', '2021-01-17',\n",
       "       '2021-01-18', '2021-01-19', '2021-01-20', '2021-01-21',\n",
       "       '2021-01-22', '2021-01-26', '2021-01-27', '2021-01-28',\n",
       "       '2021-01-29', '2021-01-30', '2021-01-31', '2021-02-01',\n",
       "       '2021-02-03', '2021-02-04', '2021-02-05', '2021-02-06',\n",
       "       '2021-02-07', '2021-02-08', '2021-02-09', '2021-02-10',\n",
       "       '2021-02-11', '2021-02-12', '2021-02-13', '2021-02-14',\n",
       "       '2021-02-15', '2021-02-16', '2021-02-17', '2021-02-18',\n",
       "       '2021-02-19', '2021-02-20', '2021-02-21', '2021-02-22',\n",
       "       '2021-02-23', '2021-02-24', '2021-02-25', '2021-02-26',\n",
       "       '2021-02-27', '2021-02-28', '2021-03-01', '2021-03-02',\n",
       "       '2021-03-03', '2021-03-04', '2021-03-05', '2021-03-06'],\n",
       "      dtype=object)"
      ]
     },
     "execution_count": 382,
     "metadata": {},
     "output_type": "execute_result"
    }
   ],
   "source": [
    "data[(data['App ID']=='com.opera.browser') & (data['Rank']<=10)]['Date'].unique()"
   ]
  },
  {
   "cell_type": "code",
   "execution_count": 374,
   "id": "bf0969aa-76a5-48db-adcf-fa6890e7167b",
   "metadata": {},
   "outputs": [
    {
     "data": {
      "text/plain": [
       "2       2020-12-16\n",
       "10      2020-12-16\n",
       "24      2020-12-17\n",
       "32      2020-12-17\n",
       "33      2020-12-18\n",
       "           ...    \n",
       "2979    2021-03-04\n",
       "3012    2021-03-05\n",
       "3020    2021-03-05\n",
       "3052    2021-03-06\n",
       "3060    2021-03-06\n",
       "Name: Date, Length: 152, dtype: object"
      ]
     },
     "execution_count": 374,
     "metadata": {},
     "output_type": "execute_result"
    }
   ],
   "source": [
    "data[data['App ID']=='com.android.chrome']['Date']"
   ]
  },
  {
   "cell_type": "code",
   "execution_count": 326,
   "id": "8673815a-df6d-4105-af78-a9991b38f4aa",
   "metadata": {},
   "outputs": [],
   "source": [
    "liapp=['com.transsion.phoenix','com.vivaldi.browser']"
   ]
  },
  {
   "cell_type": "code",
   "execution_count": 327,
   "id": "c081c109-c06b-48f0-8bee-4d097c3d6de2",
   "metadata": {},
   "outputs": [
    {
     "data": {
      "text/plain": [
       "count    370.000000\n",
       "mean      25.935135\n",
       "std       22.962940\n",
       "min        6.000000\n",
       "25%       14.000000\n",
       "50%       18.000000\n",
       "75%       28.000000\n",
       "max      119.000000\n",
       "Name: Rank, dtype: float64"
      ]
     },
     "execution_count": 327,
     "metadata": {},
     "output_type": "execute_result"
    }
   ],
   "source": [
    "data[data['App ID']==liapp[0]]['Rank'].describe()"
   ]
  },
  {
   "cell_type": "code",
   "execution_count": 328,
   "id": "e16bf4e3-9dcc-41af-b0fa-d72eb61de79c",
   "metadata": {},
   "outputs": [
    {
     "data": {
      "text/plain": [
       "count    370.000000\n",
       "mean      64.202703\n",
       "std       30.619609\n",
       "min        0.000000\n",
       "25%       43.000000\n",
       "50%       67.000000\n",
       "75%       89.000000\n",
       "max      134.000000\n",
       "Name: Rank, dtype: float64"
      ]
     },
     "execution_count": 328,
     "metadata": {},
     "output_type": "execute_result"
    }
   ],
   "source": [
    "data[data['App ID']==liapp[1]]['Rank'].describe()"
   ]
  },
  {
   "cell_type": "code",
   "execution_count": 330,
   "id": "646fe2df-4215-473f-b284-9edf7f3e3d74",
   "metadata": {},
   "outputs": [
    {
     "data": {
      "text/plain": [
       "array(['privacy browser', 'privacy browsers for android',\n",
       "       'best privacy browsers', 'fast browser', 'ad free browser'],\n",
       "      dtype=object)"
      ]
     },
     "execution_count": 330,
     "metadata": {},
     "output_type": "execute_result"
    }
   ],
   "source": [
    "data[data['App ID']==liapp[0]]['Keyword'].unique()"
   ]
  },
  {
   "cell_type": "code",
   "execution_count": 331,
   "id": "4208a524-c4b7-4484-8c70-49f6d7f00bea",
   "metadata": {},
   "outputs": [
    {
     "data": {
      "text/plain": [
       "array(['privacy browser', 'privacy browsers for android',\n",
       "       'best privacy browsers', 'fast browser', 'ad free browser'],\n",
       "      dtype=object)"
      ]
     },
     "execution_count": 331,
     "metadata": {},
     "output_type": "execute_result"
    }
   ],
   "source": [
    "data[data['App ID']==liapp[1]]['Keyword'].unique()"
   ]
  },
  {
   "cell_type": "code",
   "execution_count": 336,
   "id": "bf59077e-9c32-401f-8c29-0d769d8bd20f",
   "metadata": {},
   "outputs": [
    {
     "data": {
      "text/plain": [
       "count     74.000000\n",
       "mean      61.513514\n",
       "std       29.464742\n",
       "min       24.000000\n",
       "25%       40.000000\n",
       "50%       51.500000\n",
       "75%       81.750000\n",
       "max      119.000000\n",
       "Name: Rank, dtype: float64"
      ]
     },
     "execution_count": 336,
     "metadata": {},
     "output_type": "execute_result"
    }
   ],
   "source": [
    "data[(data['App ID']==liapp[0]) & (data['Keyword']=='ad free browser')]['Rank'].describe()"
   ]
  },
  {
   "cell_type": "code",
   "execution_count": null,
   "id": "08b769bb-9080-4342-93a0-d2e80f292040",
   "metadata": {},
   "outputs": [],
   "source": [
    "## If you use keywords as C', 'privacy browsers for android','best privacy browsers', 'fast browser', 'ad free browser'\n",
    "## apps  transsion.phoenix, vivaldi.browser are not getting as rank-1\n",
    "\n"
   ]
  },
  {
   "cell_type": "code",
   "execution_count": null,
   "id": "285bf81d-a250-4e92-827d-96d98ea3ff1d",
   "metadata": {},
   "outputs": [],
   "source": [
    "## If you use keyword android browser, fast browser, ad free browser we don't see any rank 1 app"
   ]
  },
  {
   "cell_type": "code",
   "execution_count": 318,
   "id": "91b562aa-9c86-40ff-b92f-dad8e1c0d2bf",
   "metadata": {},
   "outputs": [
    {
     "data": {
      "text/plain": [
       "count    608.000000\n",
       "mean       6.383224\n",
       "std        4.029894\n",
       "min        2.000000\n",
       "25%        3.000000\n",
       "50%        6.000000\n",
       "75%        9.000000\n",
       "max       24.000000\n",
       "Name: Rank, dtype: float64"
      ]
     },
     "execution_count": 318,
     "metadata": {},
     "output_type": "execute_result"
    }
   ],
   "source": [
    "not_rank1_key=['android browser','fast browser','ad free browser']\n",
    "\n",
    "data[data['Keyword']==not_rank1_key[0]]['Rank'].describe()"
   ]
  },
  {
   "cell_type": "code",
   "execution_count": 319,
   "id": "50fc9e80-17cf-4a82-a8d7-5cdc7e9a539f",
   "metadata": {},
   "outputs": [
    {
     "data": {
      "text/plain": [
       "count    370.000000\n",
       "mean      32.648649\n",
       "std       32.499169\n",
       "min        0.000000\n",
       "25%        8.000000\n",
       "50%       22.000000\n",
       "75%       36.500000\n",
       "max      114.000000\n",
       "Name: Rank, dtype: float64"
      ]
     },
     "execution_count": 319,
     "metadata": {},
     "output_type": "execute_result"
    }
   ],
   "source": [
    "data[data['Keyword']==not_rank1_key[1]]['Rank'].describe()"
   ]
  },
  {
   "cell_type": "code",
   "execution_count": 320,
   "id": "208c9cf2-3e7c-41a2-b5b1-6ac05255c78a",
   "metadata": {},
   "outputs": [
    {
     "data": {
      "text/plain": [
       "count    370.000000\n",
       "mean      20.967568\n",
       "std       26.354248\n",
       "min        2.000000\n",
       "25%        6.000000\n",
       "50%        6.000000\n",
       "75%       28.750000\n",
       "max      119.000000\n",
       "Name: Rank, dtype: float64"
      ]
     },
     "execution_count": 320,
     "metadata": {},
     "output_type": "execute_result"
    }
   ],
   "source": [
    "data[data['Keyword']==not_rank1_key[2]]['Rank'].describe()"
   ]
  },
  {
   "cell_type": "code",
   "execution_count": 396,
   "id": "08bf6171-effd-4a8f-a58b-b1830ace66cb",
   "metadata": {},
   "outputs": [
    {
     "data": {
      "text/plain": [
       "array([ 96,  89,  43,  23, 100,  84,   0,  76, 134,  39,  65,  59,  52,\n",
       "        20,  58,  40,  51,  75,  62,  45,  57,  85,  24,  67,  42,  90,\n",
       "        18,  63,  55, 109,  27,  66,  47,  93,  71,  48,  22,  69,  60,\n",
       "        70,  68,  64,  21,  80,  92,  73,  53,  78,  94,  34,  77,  86,\n",
       "       107,  26,  83, 106,  87, 105,  79, 110, 104,  81,  98,  82,  95,\n",
       "        97,  99,  19,  29,  88,  72,  50,  54, 101, 112,  44, 114,  91,\n",
       "       102,  61, 108, 103,  36,  38,  56,  31,  74,  41,  46,  25,  30,\n",
       "       118,  28, 116, 117, 115,  17,  35], dtype=int64)"
      ]
     },
     "execution_count": 396,
     "metadata": {},
     "output_type": "execute_result"
    }
   ],
   "source": [
    "data[data['App ID']=='com.vivaldi.browser']['Rank'].unique()"
   ]
  },
  {
   "cell_type": "code",
   "execution_count": null,
   "id": "488db740-2613-41fd-a396-e5b1079b8b49",
   "metadata": {},
   "outputs": [],
   "source": []
  }
 ],
 "metadata": {
  "kernelspec": {
   "display_name": "Python 3 (ipykernel)",
   "language": "python",
   "name": "python3"
  },
  "language_info": {
   "codemirror_mode": {
    "name": "ipython",
    "version": 3
   },
   "file_extension": ".py",
   "mimetype": "text/x-python",
   "name": "python",
   "nbconvert_exporter": "python",
   "pygments_lexer": "ipython3",
   "version": "3.9.7"
  }
 },
 "nbformat": 4,
 "nbformat_minor": 5
}
